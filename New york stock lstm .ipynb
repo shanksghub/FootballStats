{
  "nbformat": 4,
  "nbformat_minor": 0,
  "metadata": {
    "colab": {
      "name": "Welcome To Colaboratory",
      "version": "0.3.2",
      "provenance": [],
      "collapsed_sections": [],
      "toc_visible": true,
      "include_colab_link": true
    },
    "kernelspec": {
      "display_name": "Python 3",
      "name": "python3"
    }
  },
  "cells": [
    {
      "cell_type": "markdown",
      "metadata": {
        "id": "view-in-github",
        "colab_type": "text"
      },
      "source": [
        "<a href=\"https://colab.research.google.com/github/shanksghub/FootballStats/blob/master/New%20york%20stock%20lstm%20.ipynb\" target=\"_parent\"><img src=\"https://colab.research.google.com/assets/colab-badge.svg\" alt=\"Open In Colab\"/></a>"
      ]
    },
    {
      "cell_type": "code",
      "metadata": {
        "id": "9InPat67KhCD",
        "colab_type": "code",
        "colab": {
          "base_uri": "https://localhost:8080/",
          "height": 34
        },
        "outputId": "2821c96e-4673-471b-ccd1-edf384a45db4"
      },
      "source": [
        "import numpy as np\n",
        "import pandas as pd\n",
        "\n",
        "from keras.layers.core import Dense, Activation, Dropout\n",
        "from keras.layers.recurrent import LSTM\n",
        "from keras.models import Sequential\n",
        "import time\n",
        "from sklearn.preprocessing import MinMaxScaler\n",
        "import matplotlib.pyplot as plt\n",
        "from numpy import newaxis"
      ],
      "execution_count": 50,
      "outputs": [
        {
          "output_type": "stream",
          "text": [
            "Using TensorFlow backend.\n"
          ],
          "name": "stderr"
        }
      ]
    },
    {
      "cell_type": "code",
      "metadata": {
        "id": "5TATDxyPKkVI",
        "colab_type": "code",
        "colab": {}
      },
      "source": [
        "# This Python 3 environment comes with many helpful analytics libraries installed\n",
        "# It is defined by the kaggle/python docker image: https://github.com/kaggle/docker-python\n",
        "# For example, here's several helpful packages to load in \n",
        "\n",
        "import numpy as np # linear algebra\n",
        "import pandas as pd # data processing, CSV file I/O (e.g. pd.read_csv)\n",
        "\n",
        "# Input data files are available in the \"../input/\" directory.\n",
        "# For example, running this (by clicking run or pressing Shift+Enter) will list the files in the input directory\n"
      ],
      "execution_count": 0,
      "outputs": []
    },
    {
      "cell_type": "code",
      "metadata": {
        "id": "L5lCqH_QKxTZ",
        "colab_type": "code",
        "colab": {
          "base_uri": "https://localhost:8080/",
          "height": 275
        },
        "outputId": "ccb07d38-d68e-4a11-98c8-e5a5c9e2fe6c"
      },
      "source": [
        "prices_dataset =  pd.read_csv('/prices.csv', header=0,error_bad_lines = False )\n"
      ],
      "execution_count": 52,
      "outputs": [
        {
          "output_type": "stream",
          "text": [
            "b'Skipping line 17783: expected 7 fields, saw 8\\nSkipping line 53220: expected 7 fields, saw 9\\nSkipping line 88517: expected 7 fields, saw 8\\nSkipping line 105999: expected 7 fields, saw 8\\n'\n",
            "b'Skipping line 141290: expected 7 fields, saw 9\\nSkipping line 176567: expected 7 fields, saw 8\\nSkipping line 211802: expected 7 fields, saw 8\\nSkipping line 229387: expected 7 fields, saw 8\\n'\n",
            "b'Skipping line 264552: expected 7 fields, saw 9\\nSkipping line 299607: expected 7 fields, saw 8\\nSkipping line 369689: expected 7 fields, saw 9\\n'\n",
            "b'Skipping line 404842: expected 7 fields, saw 10\\nSkipping line 422388: expected 7 fields, saw 10\\nSkipping line 492537: expected 7 fields, saw 9\\n'\n",
            "b'Skipping line 527484: expected 7 fields, saw 9\\nSkipping line 579873: expected 7 fields, saw 13\\n'\n",
            "b'Skipping line 735854: expected 7 fields, saw 12\\n'\n",
            "b'Skipping line 787479: expected 7 fields, saw 10\\nSkipping line 821801: expected 7 fields, saw 9\\nSkipping line 873085: expected 7 fields, saw 9\\nSkipping line 890241: expected 7 fields, saw 10\\n'\n",
            "b'Skipping line 1026318: expected 7 fields, saw 9\\nSkipping line 1043237: expected 7 fields, saw 8\\n'\n",
            "b'Skipping line 1060225: expected 7 fields, saw 8\\nSkipping line 1077112: expected 7 fields, saw 9\\nSkipping line 1110975: expected 7 fields, saw 11\\nSkipping line 1144815: expected 7 fields, saw 12\\nSkipping line 1178721: expected 7 fields, saw 10\\n'\n",
            "b'Skipping line 1229581: expected 7 fields, saw 11\\nSkipping line 1263523: expected 7 fields, saw 11\\nSkipping line 1297487: expected 7 fields, saw 10\\n'\n",
            "b'Skipping line 1314684: expected 7 fields, saw 8\\nSkipping line 1382866: expected 7 fields, saw 11\\nSkipping line 1416950: expected 7 fields, saw 8\\n'\n",
            "b'Skipping line 1451032: expected 7 fields, saw 11\\n'\n",
            "/usr/local/lib/python3.6/dist-packages/IPython/core/interactiveshell.py:2718: DtypeWarning: Columns (2,3,5) have mixed types. Specify dtype option on import or set low_memory=False.\n",
            "  interactivity=interactivity, compiler=compiler, result=result)\n"
          ],
          "name": "stderr"
        }
      ]
    },
    {
      "cell_type": "code",
      "metadata": {
        "id": "XK4-2bLLK2dp",
        "colab_type": "code",
        "colab": {
          "base_uri": "https://localhost:8080/",
          "height": 34
        },
        "outputId": "c74f6734-da92-4213-c174-31f9226b7381"
      },
      "source": [
        "yahoo = prices_dataset[prices_dataset['symbol']=='WLTW']\n",
        "yahoo_stock_prices = yahoo.close.values.astype('float32')\n",
        "yahoo_stock_prices = yahoo_stock_prices.reshape(251, 1)\n",
        "yahoo_stock_prices.shape"
      ],
      "execution_count": 53,
      "outputs": [
        {
          "output_type": "execute_result",
          "data": {
            "text/plain": [
              "(251, 1)"
            ]
          },
          "metadata": {
            "tags": []
          },
          "execution_count": 53
        }
      ]
    },
    {
      "cell_type": "code",
      "metadata": {
        "id": "c_rRvYrjLXJF",
        "colab_type": "code",
        "colab": {
          "base_uri": "https://localhost:8080/",
          "height": 269
        },
        "outputId": "abec6ca2-abee-4d49-d022-4335b97a8cb9"
      },
      "source": [
        "plt.plot(yahoo_stock_prices)\n",
        "plt.show()"
      ],
      "execution_count": 54,
      "outputs": [
        {
          "output_type": "display_data",
          "data": {
            "image/png": "[encoded data removed]",
            "text/plain": [
              "<Figure size 432x288 with 1 Axes>"
            ]
          },
          "metadata": {
            "tags": []
          }
        }
      ]
    },
    {
      "cell_type": "code",
      "metadata": {
        "id": "d225KysyLY-_",
        "colab_type": "code",
        "colab": {
          "base_uri": "https://localhost:8080/",
          "height": 1000
        },
        "outputId": "ad25dd71-b77c-4db8-94d3-be16b00b785c"
      },
      "source": [
        "scaler = MinMaxScaler(feature_range=(0, 1))\n",
        "yahoo_stock_prices = scaler.fit_transform(yahoo_stock_prices)\n",
        "train_size = int(len(yahoo_stock_prices) * 0.80)\n",
        "test_size = len(yahoo_stock_prices) - train_size\n",
        "train, test = yahoo_stock_prices[0:train_size,:], yahoo_stock_prices[train_size:len(yahoo_stock_prices),:]\n",
        "def create_dataset(dataset, look_back=1):\n",
        "    dataX, dataY = [], []\n",
        "    for i in range(len(dataset)-look_back-1):\n",
        "        a = dataset[i:(i+look_back), 0]\n",
        "        dataX.append(a)\n",
        "        b = dataset[i+look_back,0]\n",
        "        dataY.append(b)\n",
        "    return np.array(dataX), np.array(dataY)\n",
        "look_back = 1\n",
        "trainX, trainY = create_dataset(train, look_back)\n",
        "testX, testY = create_dataset(test, look_back)\n",
        "trainX = np.reshape(trainX, (trainX.shape[0], 1, trainX.shape[1]))\n",
        "testX = np.reshape(testX, (testX.shape[0], 1, testX.shape[1]))\n",
        "model = Sequential()\n",
        "\n",
        "model.add(LSTM(\n",
        "    input_dim=1,\n",
        "    output_dim=50,\n",
        "    return_sequences=True))\n",
        "model.add(Dropout(0.2))\n",
        "\n",
        "model.add(LSTM(\n",
        "    100,\n",
        "    return_sequences=False))\n",
        "model.add(Dropout(0.2))\n",
        "\n",
        "model.add(Dense(\n",
        "    output_dim=1))\n",
        "model.add(Activation('linear'))\n",
        "\n",
        "start = time.time()\n",
        "model.compile(loss='mse', optimizer='rmsprop')\n",
        "print ('compilation time : ', time.time() - start)\n",
        "\n",
        "model.fit(\n",
        "    trainX,\n",
        "    trainY,\n",
        "    batch_size=128,\n",
        "    nb_epoch=10,\n",
        "    validation_split=0.05)\n",
        "\n",
        "def plot_results_multiple(predicted_data, true_data, length):\n",
        "    plt.plot(scaler.inverse_transform(true_data.reshape(-1, 1))[length:])\n",
        "    plt.plot(scaler.inverse_transform(np.array(predicted_data).reshape(-1, 1))[length:])\n",
        "    plt.show()\n",
        "def predict_sequences_multiple(model, firstValue, length):\n",
        "    prediction_seqs = []\n",
        "    curr_frame = firstValue\n",
        "\n",
        "    for i in range(length):\n",
        "        predicted = []\n",
        "\n",
        "        predicted.append(model.predict(curr_frame[newaxis, :, :])[0, 0])\n",
        "\n",
        "        curr_frame = curr_frame[0:]\n",
        "        curr_frame = np.insert(curr_frame[0:], i + 1, predicted[-1], axis=0)\n",
        "\n",
        "        prediction_seqs.append(predicted[-1])\n",
        "\n",
        "    return prediction_seqs\n",
        "predict_length = 5\n",
        "predictions = predict_sequences_multiple(model, testX[0], predict_length)\n",
        "plot_results_multiple(predictions, testY, predict_length)\n"
      ],
      "execution_count": 55,
      "outputs": [
        {
          "output_type": "stream",
          "text": [
            "WARNING:tensorflow:From /usr/local/lib/python3.6/dist-packages/keras/backend/tensorflow_backend.py:66: The name tf.get_default_graph is deprecated. Please use tf.compat.v1.get_default_graph instead.\n",
            "\n",
            "WARNING:tensorflow:From /usr/local/lib/python3.6/dist-packages/keras/backend/tensorflow_backend.py:541: The name tf.placeholder is deprecated. Please use tf.compat.v1.placeholder instead.\n",
            "\n",
            "WARNING:tensorflow:From /usr/local/lib/python3.6/dist-packages/keras/backend/tensorflow_backend.py:4432: The name tf.random_uniform is deprecated. Please use tf.random.uniform instead.\n",
            "\n"
          ],
          "name": "stdout"
        },
        {
          "output_type": "stream",
          "text": [
            "/usr/local/lib/python3.6/dist-packages/ipykernel_launcher.py:24: UserWarning: The `input_dim` and `input_length` arguments in recurrent layers are deprecated. Use `input_shape` instead.\n",
            "/usr/local/lib/python3.6/dist-packages/ipykernel_launcher.py:24: UserWarning: Update your `LSTM` call to the Keras 2 API: `LSTM(return_sequences=True, input_shape=(None, 1), units=50)`\n"
          ],
          "name": "stderr"
        },
        {
          "output_type": "stream",
          "text": [
            "WARNING:tensorflow:From /usr/local/lib/python3.6/dist-packages/keras/backend/tensorflow_backend.py:148: The name tf.placeholder_with_default is deprecated. Please use tf.compat.v1.placeholder_with_default instead.\n",
            "\n",
            "WARNING:tensorflow:From /usr/local/lib/python3.6/dist-packages/keras/backend/tensorflow_backend.py:3733: calling dropout (from tensorflow.python.ops.nn_ops) with keep_prob is deprecated and will be removed in a future version.\n",
            "Instructions for updating:\n",
            "Please use `rate` instead of `keep_prob`. Rate should be set to `rate = 1 - keep_prob`.\n",
            "WARNING:tensorflow:From /usr/local/lib/python3.6/dist-packages/keras/optimizers.py:793: The name tf.train.Optimizer is deprecated. Please use tf.compat.v1.train.Optimizer instead.\n",
            "\n"
          ],
          "name": "stdout"
        },
        {
          "output_type": "stream",
          "text": [
            "/usr/local/lib/python3.6/dist-packages/ipykernel_launcher.py:33: UserWarning: Update your `Dense` call to the Keras 2 API: `Dense(units=1)`\n",
            "/usr/local/lib/python3.6/dist-packages/ipykernel_launcher.py:45: UserWarning: The `nb_epoch` argument in `fit` has been renamed `epochs`.\n"
          ],
          "name": "stderr"
        },
        {
          "output_type": "stream",
          "text": [
            "compilation time :  0.026947736740112305\n",
            "WARNING:tensorflow:From /usr/local/lib/python3.6/dist-packages/tensorflow/python/ops/math_grad.py:1250: add_dispatch_support.<locals>.wrapper (from tensorflow.python.ops.array_ops) is deprecated and will be removed in a future version.\n",
            "Instructions for updating:\n",
            "Use tf.where in 2.0, which has the same broadcast rule as np.where\n",
            "WARNING:tensorflow:From /usr/local/lib/python3.6/dist-packages/keras/backend/tensorflow_backend.py:1033: The name tf.assign_add is deprecated. Please use tf.compat.v1.assign_add instead.\n",
            "\n",
            "Train on 188 samples, validate on 10 samples\n",
            "Epoch 1/10\n",
            "188/188 [==============================] - 2s 11ms/step - loss: 0.3413 - val_loss: 0.7211\n",
            "Epoch 2/10\n",
            "188/188 [==============================] - 0s 159us/step - loss: 0.3019 - val_loss: 0.6640\n",
            "Epoch 3/10\n",
            "188/188 [==============================] - 0s 138us/step - loss: 0.2728 - val_loss: 0.6088\n",
            "Epoch 4/10\n",
            "188/188 [==============================] - 0s 122us/step - loss: 0.2454 - val_loss: 0.5553\n",
            "Epoch 5/10\n",
            "188/188 [==============================] - 0s 129us/step - loss: 0.2194 - val_loss: 0.5026\n",
            "Epoch 6/10\n",
            "188/188 [==============================] - 0s 123us/step - loss: 0.1941 - val_loss: 0.4521\n",
            "Epoch 7/10\n",
            "188/188 [==============================] - 0s 127us/step - loss: 0.1703 - val_loss: 0.4028\n",
            "Epoch 8/10\n",
            "188/188 [==============================] - 0s 134us/step - loss: 0.1482 - val_loss: 0.3547\n",
            "Epoch 9/10\n",
            "188/188 [==============================] - 0s 130us/step - loss: 0.1271 - val_loss: 0.3079\n",
            "Epoch 10/10\n",
            "188/188 [==============================] - 0s 133us/step - loss: 0.1059 - val_loss: 0.2650\n"
          ],
          "name": "stdout"
        },
        {
          "output_type": "display_data",
          "data": {
            "image/png": "[encoded data removed]",
            "text/plain": [
              "<Figure size 432x288 with 1 Axes>"
            ]
          },
          "metadata": {
            "tags": []
          }
        }
      ]
    }
  ]
}